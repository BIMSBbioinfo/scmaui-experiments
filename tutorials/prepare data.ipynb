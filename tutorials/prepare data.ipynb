{
 "cells": [
  {
   "cell_type": "code",
   "execution_count": null,
   "id": "61e95745",
   "metadata": {},
   "outputs": [],
   "source": [
    "from anndata import read_h5ad\n",
    "integrated = read_h5ad(\"/home/yuni/icgc/GSE194122_express_ATAC/GSE194122_openproblems_neurips2021_multiome_BMMC_processed.h5ad\")\n"
   ]
  },
  {
   "cell_type": "code",
   "execution_count": 8,
   "id": "c9e7f44b",
   "metadata": {
    "scrolled": true
   },
   "outputs": [
    {
     "data": {
      "text/plain": [
       "['Naive CD20+ B',\n",
       " 'CD14+ Mono',\n",
       " 'CD8+ T',\n",
       " 'CD16+ Mono',\n",
       " 'B1 B',\n",
       " 'Lymph prog',\n",
       " 'CD4+ T naive',\n",
       " 'CD4+ T activated',\n",
       " 'Erythroblast',\n",
       " 'NK',\n",
       " 'Transitional B',\n",
       " 'Normoblast',\n",
       " 'ILC',\n",
       " 'G/M prog',\n",
       " 'MK/E prog',\n",
       " 'HSC',\n",
       " 'pDC',\n",
       " 'ID2-hi myeloid prog',\n",
       " 'Proerythroblast',\n",
       " 'Plasma cell',\n",
       " 'cDC2',\n",
       " 'CD8+ T naive']"
      ]
     },
     "execution_count": 8,
     "metadata": {},
     "output_type": "execute_result"
    }
   ],
   "source": [
    "integrated.obs.cell_type.unique().tolist()"
   ]
  },
  {
   "cell_type": "code",
   "execution_count": null,
   "id": "bcbb6c97",
   "metadata": {},
   "outputs": [],
   "source": [
    "integrated = integrated[((integrated.obs[\"batch\"]==\"s1d1\") | (integrated.obs[\"batch\"]==\"s1d2\")) &\n",
    "           ((integrated.obs[\"cell_type\"]==\"CD14+ Mono\") | (integrated.obs[\"cell_type\"]==\"NK\") | (integrated.obs[\"cell_type\"]==\"Normoblast\"))]"
   ]
  },
  {
   "cell_type": "code",
   "execution_count": null,
   "id": "1ec5837b",
   "metadata": {},
   "outputs": [],
   "source": [
    "import seaborn as sns\n",
    "sns.histplot(data=integrated.obs, hue=\"cell_type\", y=\"DonorNumber\", multiple=\"dodge\", shrink=0.8)"
   ]
  },
  {
   "cell_type": "code",
   "execution_count": 22,
   "id": "bc195647",
   "metadata": {},
   "outputs": [],
   "source": [
    "gex = integrated[:,integrated.var[\"feature_types\"] == \"GEX\"]\n",
    "atac= integrated[:,integrated.var[\"feature_types\"] == \"ATAC\"]\n",
    "gex.write(\"../data/GSE194122/gex.hdf5\")\n",
    "atac.write(\"../data/GSE194122/atac.hdf5\")"
   ]
  }
 ],
 "metadata": {
  "kernelspec": {
   "display_name": "Python 3 (ipykernel)",
   "language": "python",
   "name": "python3"
  },
  "language_info": {
   "codemirror_mode": {
    "name": "ipython",
    "version": 3
   },
   "file_extension": ".py",
   "mimetype": "text/x-python",
   "name": "python",
   "nbconvert_exporter": "python",
   "pygments_lexer": "ipython3",
   "version": "3.7.11"
  }
 },
 "nbformat": 4,
 "nbformat_minor": 5
}
